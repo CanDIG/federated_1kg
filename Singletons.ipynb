{
 "cells": [
  {
   "cell_type": "code",
   "execution_count": 3,
   "metadata": {
    "collapsed": false
   },
   "outputs": [
    {
     "ename": "TypeError",
     "evalue": "'NoneType' object is not iterable",
     "output_type": "error",
     "traceback": [
      "\u001b[0;31m---------------------------------------------------------------------------\u001b[0m",
      "\u001b[0;31mTypeError\u001b[0m                                 Traceback (most recent call last)",
      "\u001b[0;32m<ipython-input-3-30c36586eac0>\u001b[0m in \u001b[0;36m<module>\u001b[0;34m()\u001b[0m\n\u001b[1;32m     23\u001b[0m \u001b[0;34m\u001b[0m\u001b[0m\n\u001b[1;32m     24\u001b[0m \u001b[0;34m\u001b[0m\u001b[0m\n\u001b[0;32m---> 25\u001b[0;31m \u001b[0;32mfor\u001b[0m \u001b[0mkey\u001b[0m\u001b[0;34m,\u001b[0m \u001b[0mval\u001b[0m \u001b[0;32min\u001b[0m \u001b[0menumerate\u001b[0m\u001b[0;34m(\u001b[0m\u001b[0mSgl\u001b[0m\u001b[0;34m)\u001b[0m\u001b[0;34m:\u001b[0m\u001b[0;34m\u001b[0m\u001b[0m\n\u001b[0m\u001b[1;32m     26\u001b[0m     \u001b[0msubpop_sum\u001b[0m\u001b[0;34m[\u001b[0m\u001b[0msubpops\u001b[0m\u001b[0;34m[\u001b[0m\u001b[0mval\u001b[0m\u001b[0;34m[\u001b[0m\u001b[0;36m0\u001b[0m\u001b[0;34m]\u001b[0m\u001b[0;34m]\u001b[0m\u001b[0;34m]\u001b[0m \u001b[0;34m+=\u001b[0m \u001b[0mval\u001b[0m\u001b[0;34m[\u001b[0m\u001b[0;36m1\u001b[0m\u001b[0;34m]\u001b[0m\u001b[0;34m\u001b[0m\u001b[0m\n\u001b[1;32m     27\u001b[0m     \u001b[0msubpop_count\u001b[0m\u001b[0;34m[\u001b[0m\u001b[0msubpops\u001b[0m\u001b[0;34m[\u001b[0m\u001b[0mval\u001b[0m\u001b[0;34m[\u001b[0m\u001b[0;36m0\u001b[0m\u001b[0;34m]\u001b[0m\u001b[0;34m]\u001b[0m\u001b[0;34m]\u001b[0m \u001b[0;34m+=\u001b[0m \u001b[0;36m1\u001b[0m\u001b[0;34m\u001b[0m\u001b[0m\n",
      "\u001b[0;31mTypeError\u001b[0m: 'NoneType' object is not iterable"
     ]
    }
   ],
   "source": [
    "# Figure 1c\n",
    "\n",
    "import graphlib as gl\n",
    "import matplotlib.pyplot as plt\n",
    "import matplotlib as mpl\n",
    "import pickle\n",
    "\n",
    "\n",
    "handle = open(\"Singletons.pickle\", \"rb\")\n",
    "Sgl = pickle.load(handle)\n",
    "\n",
    "\n",
    "#reading pops and subpops\n",
    "pops, subpops = gl.population_dictionaries('samples-pops-subpops.csv')\n",
    "   \n",
    "ordered_subpops = ['LWK', 'GWD', 'MSL', 'ACB','ASW','YRI', 'ESN','BEB', 'STU','ITU', 'PJL','GIH','CHB','KHV','CHS','JPT','CDX','TSI','CEU','IBS','GBR','FIN','PEL','MXL','CLM','PUR']    \n",
    "subpop_sum = {}\n",
    "subpop_count = {}\n",
    "\n",
    "\n",
    "subpop_sum = subpop_sum.fromkeys(ordered_subpops, 0)\n",
    "subpop_count = subpop_count.fromkeys(ordered_subpops, 0)\n",
    "\n",
    "\n",
    "for key, val in enumerate(Sgl):\n",
    "    subpop_sum[subpops[val[0]]] += val[1]\n",
    "    subpop_count[subpops[val[0]]] += 1 \n",
    "  \n",
    "averages = []\n",
    "for i, key in enumerate(ordered_subpops):\n",
    "    averages.append(subpop_sum[key]/subpop_count[key])  \n",
    "\n",
    "\n",
    "colors = gl.population_to_colors(ordered_subpops)\n",
    "mpl.rc('xtick', labelsize=10)\n",
    "mpl.rcParams['axes.formatter.useoffset'] = False\n",
    "plt.bar(range(0, len(averages), 1), averages, color=colors, tick_label=ordered_subpops, edgecolor='k')\n",
    "plt.xticks(rotation=90)\n",
    "plt.show()"
   ]
  },
  {
   "cell_type": "code",
   "execution_count": null,
   "metadata": {
    "collapsed": false
   },
   "outputs": [],
   "source": [
    "\n"
   ]
  }
 ],
 "metadata": {
  "kernelspec": {
   "display_name": "Python 2",
   "language": "python",
   "name": "python2"
  },
  "language_info": {
   "codemirror_mode": {
    "name": "ipython",
    "version": 2
   },
   "file_extension": ".py",
   "mimetype": "text/x-python",
   "name": "python",
   "nbconvert_exporter": "python",
   "pygments_lexer": "ipython2",
   "version": "2.7.13"
  }
 },
 "nbformat": 4,
 "nbformat_minor": 2
}
